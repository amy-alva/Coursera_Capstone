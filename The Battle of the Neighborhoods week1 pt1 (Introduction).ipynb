{
    "cells": [
        {
            "cell_type": "markdown",
            "metadata": {
                "collapsed": true
            },
            "source": "<h1> Capstone Project - Battle of the Neighborhoods (week 1) </h1>"
        },
        {
            "cell_type": "markdown",
            "metadata": {},
            "source": "<h2> Introduction </h2>"
        },
        {
            "cell_type": "markdown",
            "metadata": {},
            "source": "In this project we will try to find an optimal location that a family of three can move into, based on their preferences and requirements. Specifically, this report will be targeted to stakeholders interested in moving to Minneapolis, Minnesota.\n\nMinneapolis is known as one of the most comfortable cities in the US. It is praised for its parks and theaters; it also reportedly has rather low crime rates. Most importantly, the Minneapolis-St.Paul metropolitan area is home to some 24 Fortune 1000 companies, and it is one of the country\u2019s top economies. Some people even like to compare this city to New York. \n\nIn our case, a family of three is considering moving to Minneapolis since one of the parents was offered an interesting job opportunity there. They have never been to the state of Minnesota (and Minneapolis in particular), so they decided to consult a specialist on which neighborhood they should pick."
        },
        {
            "cell_type": "markdown",
            "metadata": {},
            "source": "<h3> Objective </h3>"
        },
        {
            "cell_type": "markdown",
            "metadata": {},
            "source": "The objective is to identify a neighborhood in Minneapolis that is most suitable for the given family. This analysis would be relevant and useful for other individuals planning to move to this city."
        },
        {
            "cell_type": "markdown",
            "metadata": {},
            "source": "<h3> Problem Statement </h3>"
        },
        {
            "cell_type": "markdown",
            "metadata": {},
            "source": "The family needs to find a neighborhood that will meet the following criteria:\n\n1)\tbe reasonably close to the earning parent\u2019s workplace in Downtown East\n2)\thave good schools for the kid\n3)\thave a sufficient number of grocery shops \n4)\thave at least several places to eat out that have a high ranking on Foursquare\n5)\thave at least one green zone in the vicinity\n6)\thave low crime rates\n7)\toffer some form of entertainment and sports facilities (movies, gyms, etc.)\n\nData analysis will help to find the most suitalbe neighborhoods that the family will consider for relocation."
        }
    ],
    "metadata": {
        "kernelspec": {
            "display_name": "Python 3.6",
            "language": "python",
            "name": "python3"
        },
        "language_info": {
            "codemirror_mode": {
                "name": "ipython",
                "version": 3
            },
            "file_extension": ".py",
            "mimetype": "text/x-python",
            "name": "python",
            "nbconvert_exporter": "python",
            "pygments_lexer": "ipython3",
            "version": "3.6.9"
        }
    },
    "nbformat": 4,
    "nbformat_minor": 1
}