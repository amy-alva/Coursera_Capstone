{
    "cells": [
        {
            "cell_type": "markdown",
            "metadata": {
                "collapsed": true
            },
            "source": "<h1> Capstone Project - Battle of the Neighborhoods (week 1) </h1>"
        },
        {
            "cell_type": "markdown",
            "metadata": {},
            "source": "<h2> Data </h2>"
        },
        {
            "cell_type": "markdown",
            "metadata": {},
            "source": "We will begin our analysis by identifying the neighborhoods in Minneapolis using information from OpenData (http://opendata.minneapolismn.gov/datasets/minneapolis-neighborhoods/data). We will use geodata to visualize neighborhoods on the map to see which neighborhoods are closer to Downtown East."
        },
        {
            "cell_type": "markdown",
            "metadata": {},
            "source": "We will then examine crime data in each neighborhood (also using data available at OpenData; the most recent information is for 2018: http://opendata.minneapolismn.gov/datasets/police-incidents-2018/data). We will identify the types of crimes that worry the family the most and then visualize the corresponding data on the map. "
        },
        {
            "cell_type": "markdown",
            "metadata": {},
            "source": "After this, data from Foursquare API will be used to determine the best neighborhoods in terms of infrastructure (shops, restaurants, parks, sports facilities, etc.) "
        },
        {
            "cell_type": "markdown",
            "metadata": {},
            "source": "Using classification models (such as KNN, K-Means, and SVM), neighborhoods will be grouped into clusters for comparison. "
        },
        {
            "cell_type": "markdown",
            "metadata": {},
            "source": "Finally, by comparing information about crime rates and level of infrastructure (and taking into account each neighborhoods proximity to Downtown East), a recommendation on the best 3 neighborhoods will be provided."
        },
        {
            "cell_type": "code",
            "execution_count": null,
            "metadata": {},
            "outputs": [],
            "source": ""
        }
    ],
    "metadata": {
        "kernelspec": {
            "display_name": "Python 3.6",
            "language": "python",
            "name": "python3"
        },
        "language_info": {
            "codemirror_mode": {
                "name": "ipython",
                "version": 3
            },
            "file_extension": ".py",
            "mimetype": "text/x-python",
            "name": "python",
            "nbconvert_exporter": "python",
            "pygments_lexer": "ipython3",
            "version": "3.6.9"
        }
    },
    "nbformat": 4,
    "nbformat_minor": 1
}